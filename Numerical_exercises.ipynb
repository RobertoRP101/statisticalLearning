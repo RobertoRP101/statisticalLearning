{
 "cells": [
  {
   "cell_type": "code",
   "execution_count": 1,
   "id": "448e58fc-c456-454a-9e8c-8b5682af654c",
   "metadata": {},
   "outputs": [
    {
     "data": {
      "text/plain": [
       "(2, 2)"
      ]
     },
     "execution_count": 1,
     "metadata": {},
     "output_type": "execute_result"
    }
   ],
   "source": [
    "import numpy as np\n",
    "# np.array? # Getting information from a function\n",
    "x = np.array([[1, 2], [3, 4]], float) # Creating an array with a list of list\n",
    "x.shape "
   ]
  },
  {
   "cell_type": "code",
   "execution_count": 2,
   "id": "6baa75d2-a3db-4152-8e20-224eb5a2b8f7",
   "metadata": {},
   "outputs": [
    {
     "data": {
      "text/plain": [
       "10.0"
      ]
     },
     "execution_count": 2,
     "metadata": {},
     "output_type": "execute_result"
    }
   ],
   "source": [
    "y = np.array([[1,2], [3,4]], float)\n",
    "y.sum()\n",
    "np.sum(y)"
   ]
  },
  {
   "cell_type": "code",
   "execution_count": 23,
   "id": "6fd23a9d-aa0c-4de3-b9f5-085c6c208136",
   "metadata": {},
   "outputs": [
    {
     "name": "stdout",
     "output_type": "stream",
     "text": [
      "[1. 2. 3. 4. 5. 6.]\n"
     ]
    }
   ],
   "source": [
    "x = np.array([1,2,3,4,5,6], float)\n",
    "print(x)"
   ]
  },
  {
   "cell_type": "code",
   "execution_count": 22,
   "id": "16289561-07c9-4891-acdc-0fe46b3325de",
   "metadata": {},
   "outputs": [
    {
     "name": "stdout",
     "output_type": "stream",
     "text": [
      "[[10.  2.  3.]\n",
      " [ 4.  5.  6.]]\n"
     ]
    }
   ],
   "source": [
    "x_reshape = x.reshape((2,3))\n",
    "print(x_reshape)"
   ]
  },
  {
   "cell_type": "code",
   "execution_count": 17,
   "id": "cb903ca0-da81-4654-8f06-300ba27ca1f8",
   "metadata": {},
   "outputs": [
    {
     "data": {
      "text/plain": [
       "6.0"
      ]
     },
     "execution_count": 17,
     "metadata": {},
     "output_type": "execute_result"
    }
   ],
   "source": [
    "x_reshape[0,0] # First element\n",
    "x_reshape[1,2] # Last element"
   ]
  },
  {
   "cell_type": "code",
   "execution_count": 29,
   "id": "7f9ef2a7-0718-4b61-a5b8-ab53abdf658a",
   "metadata": {},
   "outputs": [
    {
     "name": "stdout",
     "output_type": "stream",
     "text": [
      "[1. 2. 3. 4. 5. 6.]\n",
      "[[10.  2.  3.]\n",
      " [ 4.  5.  6.]]\n",
      "[1. 2. 3. 4. 5. 6.]\n"
     ]
    }
   ],
   "source": [
    "print(x)\n",
    "x_reshape[0,0] = 10\n",
    "print(x_reshape)\n",
    "print(x)"
   ]
  },
  {
   "cell_type": "code",
   "execution_count": 30,
   "id": "f62bff5c-0076-4549-ab5f-1c87671bc34e",
   "metadata": {},
   "outputs": [
    {
     "name": "stdout",
     "output_type": "stream",
     "text": [
      "(2, 3)\n",
      "2\n",
      "[[10.  4.]\n",
      " [ 2.  5.]\n",
      " [ 3.  6.]]\n"
     ]
    }
   ],
   "source": [
    "print(x_reshape.shape)\n",
    "print(x_reshape.ndim)\n",
    "print(x_reshape.T)"
   ]
  },
  {
   "cell_type": "code",
   "execution_count": 40,
   "id": "a5539534-2b25-4249-bdd5-863716c6cc33",
   "metadata": {},
   "outputs": [
    {
     "name": "stdout",
     "output_type": "stream",
     "text": [
      "[ 2.06894456  0.3605498   0.22294809 -0.33327333  1.12330617  0.46682654\n",
      " -0.5085224  -0.44338914  0.84407704 -1.63741054  0.41012356  0.53836503\n",
      " -0.52362769 -1.16721048  0.02740884  0.04810008  1.30485139 -0.59428765\n",
      " -0.68171163  0.98051714  1.23185869  0.6152403  -0.67456623 -1.36515182\n",
      "  0.63417831  1.25406373 -2.05027915  0.49211762 -0.02219876 -0.09784471\n",
      "  0.56866248 -1.3226744   0.35665786 -0.44622554  0.20261427  0.94126719\n",
      " -0.09584852 -0.75079207  1.0464177  -1.72743782 -0.64283089  0.72855169\n",
      "  0.83155509 -0.36656493 -0.23750831 -0.72921911  0.12574691  1.04131712\n",
      " -0.73878067  1.0255189 ]\n"
     ]
    }
   ],
   "source": [
    "z = np.random.normal(size=50).reshape((50))\n",
    "print(z)"
   ]
  },
  {
   "cell_type": "code",
   "execution_count": 41,
   "id": "ad0d9751-2748-4269-9b34-ac0cfead25b0",
   "metadata": {},
   "outputs": [
    {
     "name": "stdout",
     "output_type": "stream",
     "text": [
      "[52.52931965 50.06599745 49.38674212 48.18071709 51.2357056  49.90813546\n",
      " 49.02619997 50.40949134 50.33159324 47.66379513 50.82215416 50.16837794\n",
      " 50.02747795 49.32084762 48.47231735 50.27432879 50.92375941 50.93643822\n",
      " 48.15132948 50.3356298  51.08362657 49.98204986 47.42769255 50.10127644\n",
      " 51.11308328 49.52050634 48.04754094 50.83922698 50.22366127 48.68494129\n",
      " 49.27986391 48.87633751 50.18050631 49.47462718 50.14850529 50.68522571\n",
      " 49.64886324 50.66199956 51.58699201 47.61128118 50.03481161 50.66575774\n",
      " 52.19917362 49.50622249 50.09136785 47.6783053  50.11376123 50.04255132\n",
      " 49.28785657 49.24726145]\n"
     ]
    }
   ],
   "source": [
    "xx = z + np.random.normal(loc=50,scale=1,size=50).reshape((50))\n",
    "print(xx)"
   ]
  },
  {
   "cell_type": "code",
   "execution_count": 42,
   "id": "b9fec9e3-b091-4373-8f6e-c009b353da53",
   "metadata": {},
   "outputs": [
    {
     "name": "stdout",
     "output_type": "stream",
     "text": [
      "[[1.         0.67879181]\n",
      " [0.67879181 1.        ]]\n"
     ]
    }
   ],
   "source": [
    "print(np.corrcoef(z,xx))"
   ]
  },
  {
   "cell_type": "code",
   "execution_count": 44,
   "id": "350d1d1b-edc1-4c92-8c45-5d39d21204f3",
   "metadata": {},
   "outputs": [
    {
     "name": "stdout",
     "output_type": "stream",
     "text": [
      "[ 4.09482632 -1.07485605]\n",
      "[ 4.09482632 -1.07485605]\n"
     ]
    }
   ],
   "source": [
    "rng = np.random.default_rng(1303)\n",
    "print(rng.normal(scale=5, size=2))\n",
    "rng2 = np.random.default_rng(1303)\n",
    "print(rng2.normal(scale=5, size=2))"
   ]
  },
  {
   "cell_type": "code",
   "execution_count": 49,
   "id": "2394d382-6e59-42de-9c17-b945b5ed20fa",
   "metadata": {},
   "outputs": [
    {
     "data": {
      "text/plain": [
       "(-0.1126795190952861, -0.1126795190952861)"
      ]
     },
     "execution_count": 49,
     "metadata": {},
     "output_type": "execute_result"
    }
   ],
   "source": [
    "rng = np.random.default_rng(3)\n",
    "y = rng.standard_normal(10)\n",
    "np.mean(y), y.mean()"
   ]
  },
  {
   "cell_type": "code",
   "execution_count": null,
   "id": "66c3d59c-61b6-4bc5-a5cd-1d2a2322d905",
   "metadata": {},
   "outputs": [],
   "source": [
    "np.var(y), y.var(), np.mean((y - y.mean())**2)\n",
    "np.sqrt(np.var(y)), np.std(y)\n",
    "X = rng.standard_normal((10, 3))"
   ]
  }
 ],
 "metadata": {
  "kernelspec": {
   "display_name": "Python 3 (ipykernel)",
   "language": "python",
   "name": "python3"
  },
  "language_info": {
   "codemirror_mode": {
    "name": "ipython",
    "version": 3
   },
   "file_extension": ".py",
   "mimetype": "text/x-python",
   "name": "python",
   "nbconvert_exporter": "python",
   "pygments_lexer": "ipython3",
   "version": "3.12.4"
  }
 },
 "nbformat": 4,
 "nbformat_minor": 5
}
